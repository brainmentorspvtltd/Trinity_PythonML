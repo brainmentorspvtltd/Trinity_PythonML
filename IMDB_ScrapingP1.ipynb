{
  "nbformat": 4,
  "nbformat_minor": 0,
  "metadata": {
    "colab": {
      "provenance": [],
      "collapsed_sections": []
    },
    "kernelspec": {
      "name": "python3",
      "display_name": "Python 3"
    },
    "language_info": {
      "name": "python"
    }
  },
  "cells": [
    {
      "cell_type": "code",
      "execution_count": 1,
      "metadata": {
        "id": "EdpVWh7FzcnJ"
      },
      "outputs": [],
      "source": [
        "x = 12\n",
        "y = 23\n",
        "z = x + y"
      ]
    },
    {
      "cell_type": "code",
      "source": [
        "z"
      ],
      "metadata": {
        "colab": {
          "base_uri": "https://localhost:8080/"
        },
        "id": "uoFLOnPMznRL",
        "outputId": "51af4321-782d-47f9-cb05-b1c610253a63"
      },
      "execution_count": 2,
      "outputs": [
        {
          "output_type": "execute_result",
          "data": {
            "text/plain": [
              "35"
            ]
          },
          "metadata": {},
          "execution_count": 2
        }
      ]
    },
    {
      "cell_type": "code",
      "source": [
        "import urllib.request as url\n",
        "# Beautiful Soup\n",
        "import bs4"
      ],
      "metadata": {
        "id": "9o5c1Qm3zvAM"
      },
      "execution_count": 4,
      "outputs": []
    },
    {
      "cell_type": "code",
      "source": [
        "path = \"https://www.imdb.com/title/tt6277462/?ref_=nv_sr_srsg_0\""
      ],
      "metadata": {
        "id": "KLtY98-Tz6RA"
      },
      "execution_count": 5,
      "outputs": []
    },
    {
      "cell_type": "code",
      "source": [
        "url.urlopen(path)"
      ],
      "metadata": {
        "colab": {
          "base_uri": "https://localhost:8080/"
        },
        "id": "umaXbNPE0R3O",
        "outputId": "2ae2ff2c-9d11-4d6c-f27e-c5edbe0eeac4"
      },
      "execution_count": 6,
      "outputs": [
        {
          "output_type": "execute_result",
          "data": {
            "text/plain": [
              "<http.client.HTTPResponse at 0x7fcd765d7510>"
            ]
          },
          "metadata": {},
          "execution_count": 6
        }
      ]
    },
    {
      "cell_type": "code",
      "source": [
        "response = url.urlopen(path)"
      ],
      "metadata": {
        "id": "oj6HeMQr0fDn"
      },
      "execution_count": 7,
      "outputs": []
    },
    {
      "cell_type": "code",
      "source": [
        "page = bs4.BeautifulSoup(response)"
      ],
      "metadata": {
        "id": "hU8KVkoE0lwF"
      },
      "execution_count": 8,
      "outputs": []
    },
    {
      "cell_type": "code",
      "source": [
        "page.find('h1', {'class' : 'sc-b73cd867-0 fbOhB'}).text"
      ],
      "metadata": {
        "colab": {
          "base_uri": "https://localhost:8080/",
          "height": 36
        },
        "id": "yjOIqZoa07mF",
        "outputId": "9b1e7038-cce5-4add-9823-c99f139a22c1"
      },
      "execution_count": 10,
      "outputs": [
        {
          "output_type": "execute_result",
          "data": {
            "text/plain": [
              "'Brahmastra Part One: Shiva'"
            ],
            "application/vnd.google.colaboratory.intrinsic+json": {
              "type": "string"
            }
          },
          "metadata": {},
          "execution_count": 10
        }
      ]
    },
    {
      "cell_type": "code",
      "source": [
        "page.find('span', {'class' : 'sc-7ab21ed2-1 jGRxWM'}).text"
      ],
      "metadata": {
        "colab": {
          "base_uri": "https://localhost:8080/",
          "height": 36
        },
        "id": "s3b0rG2m1bE0",
        "outputId": "b459eeaf-ebf4-493f-f961-645e25655240"
      },
      "execution_count": 11,
      "outputs": [
        {
          "output_type": "execute_result",
          "data": {
            "text/plain": [
              "'5.6'"
            ],
            "application/vnd.google.colaboratory.intrinsic+json": {
              "type": "string"
            }
          },
          "metadata": {},
          "execution_count": 11
        }
      ]
    },
    {
      "cell_type": "code",
      "source": [],
      "metadata": {
        "id": "gEip5uOy1q_2"
      },
      "execution_count": null,
      "outputs": []
    }
  ]
}